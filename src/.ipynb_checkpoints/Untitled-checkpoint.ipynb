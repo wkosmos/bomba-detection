{
 "cells": [
  {
   "cell_type": "code",
   "execution_count": 16,
   "metadata": {},
   "outputs": [],
   "source": [
    "import librosa as lb\n",
    "import librosa.display\n",
    "import pandas as pd\n",
    "import numpy as np\n",
    "import os\n",
    "import csv\n",
    "import matplotlib.pyplot as plt\n",
    "from pydub import AudioSegment\n",
    "\n",
    "\n",
    "\n",
    "# 90 bpm = 1.5 bps; 44100 samples per sec, so 66150 samples per beat.\n",
    "# hop_length set to 44100 (exactly 2/3 of samples per beat) to avoid catcing half-beats\n",
    "def detect_beats(filepath, hop_length=44100, start_bpm=85, units='time'):\n",
    "    \"\"\"Load audio file from given path, detect tempo and beats.\n",
    "    \n",
    "    Args:\n",
    "    filepath (str): location of audio file to read\n",
    "    hop_length (int, default 44100): number of samples between successive onsets\n",
    "    start_bpm (int, default 85): initial guess for the tempo estimator\n",
    "\n",
    "    Returns:\n",
    "    tempo (int, in bpm), beats (np.ndarray, in milliseconds)\n",
    "    \"\"\"\n",
    "    y, sr = lb.load(filepath)\n",
    "    tempo, beats = lb.beat.beat_track(y, sr, units='time', start_bpm=start_bpm)\n",
    "\n",
    "    if not 115 > tempo > 80:\n",
    "        print('WARNING: tempo detected not between 80 and 115 BPM')\n",
    "    return tempo, beats * 1000\n",
    "\n",
    "\n",
    "def group_beats(beats, group_size=2):\n",
    "    \"\"\"Delete every nth beat\"\"\"\n",
    "    return np.delete(beats, slice(None, None, group_size))\n",
    "\n",
    "\n",
    "def split_audio_into_bars(filepath, bar_indexes):\n",
    "    \"\"\"Split a given wav file into segments based on given start locations.\"\"\"\n",
    "    save_name = filepath[:-4]\n",
    "\n",
    "    audio_file = AudioSegment.from_wav(filepath)\n",
    "\n",
    "    chunk_list = []\n",
    "    # save from each index to the next as a separate file\n",
    "    for i in range(len(bar_indexes) - 1):\n",
    "        chunk = audio_file[bar_indexes[i]:bar_indexes[i+1]]\n",
    "        chunk_name = save_name + '_bar_' + str(i)\n",
    "        chunk.export(chunk_name, format='wav')\n",
    "        chunk_list.append(chunk_name)\n",
    "\n",
    "    return chunk_list\n",
    "\n",
    "\n",
    "def save_spectrogram(filepath):\n",
    "    y, sr = lb.load(filepath)\n",
    "    D = lb.stft(y, hop_length=256, n_fft=4096)\n",
    "    S_db = lb.amplitude_to_db(np.abs(D), ref=np.max)\n",
    "\n",
    "    fig, ax = plt.subplots()\n",
    "    lb.display.specshow(S_db, ax=ax)\n",
    "\n",
    "#     fig.save(filepath)\n",
    "\n",
    "        \n",
    "\n",
    "\n"
   ]
  },
  {
   "cell_type": "code",
   "execution_count": 10,
   "metadata": {},
   "outputs": [],
   "source": [
    "filepath = '/home/ww/Documents/projects/bomba-detection/data/audio/El Bla Bla Bla - Charanga habanera.wav'"
   ]
  },
  {
   "cell_type": "code",
   "execution_count": 21,
   "metadata": {},
   "outputs": [],
   "source": [
    "# get tempo and beat indexes from file\n",
    "tempo, beats = detect_beats(filepath)\n",
    "# get every 2nd beat index\n",
    "bar_indexes = group_beats(beats)\n",
    "# split file by bar indexes and save csv list of those chunks\n",
    "chunk_list = split_audio_into_bars(filepath, bar_indexes)\n"
   ]
  },
  {
   "cell_type": "code",
   "execution_count": 22,
   "metadata": {},
   "outputs": [
    {
     "ename": "TypeError",
     "evalue": "_amax_dispatcher() missing 1 required positional argument: 'a'",
     "output_type": "error",
     "traceback": [
      "\u001b[0;31m---------------------------------------------------------------------------\u001b[0m",
      "\u001b[0;31mTypeError\u001b[0m                                 Traceback (most recent call last)",
      "\u001b[0;32m<ipython-input-22-f939e5db3ef4>\u001b[0m in \u001b[0;36m<module>\u001b[0;34m\u001b[0m\n\u001b[0;32m----> 1\u001b[0;31m \u001b[0msave_spectrogram\u001b[0m\u001b[0;34m(\u001b[0m\u001b[0mchunk_list\u001b[0m\u001b[0;34m[\u001b[0m\u001b[0;36m1\u001b[0m\u001b[0;34m]\u001b[0m\u001b[0;34m)\u001b[0m\u001b[0;34m\u001b[0m\u001b[0;34m\u001b[0m\u001b[0m\n\u001b[0m",
      "\u001b[0;32m<ipython-input-16-fde88782eed6>\u001b[0m in \u001b[0;36msave_spectrogram\u001b[0;34m(filepath)\u001b[0m\n\u001b[1;32m     56\u001b[0m     \u001b[0my\u001b[0m\u001b[0;34m,\u001b[0m \u001b[0msr\u001b[0m \u001b[0;34m=\u001b[0m \u001b[0mlb\u001b[0m\u001b[0;34m.\u001b[0m\u001b[0mload\u001b[0m\u001b[0;34m(\u001b[0m\u001b[0mfilepath\u001b[0m\u001b[0;34m)\u001b[0m\u001b[0;34m\u001b[0m\u001b[0;34m\u001b[0m\u001b[0m\n\u001b[1;32m     57\u001b[0m     \u001b[0mD\u001b[0m \u001b[0;34m=\u001b[0m \u001b[0mlb\u001b[0m\u001b[0;34m.\u001b[0m\u001b[0mstft\u001b[0m\u001b[0;34m(\u001b[0m\u001b[0my\u001b[0m\u001b[0;34m,\u001b[0m \u001b[0mhop_length\u001b[0m\u001b[0;34m=\u001b[0m\u001b[0;36m256\u001b[0m\u001b[0;34m,\u001b[0m \u001b[0mn_fft\u001b[0m\u001b[0;34m=\u001b[0m\u001b[0;36m4096\u001b[0m\u001b[0;34m)\u001b[0m\u001b[0;34m\u001b[0m\u001b[0;34m\u001b[0m\u001b[0m\n\u001b[0;32m---> 58\u001b[0;31m     \u001b[0mS_db\u001b[0m \u001b[0;34m=\u001b[0m \u001b[0mlb\u001b[0m\u001b[0;34m.\u001b[0m\u001b[0mamplitude_to_db\u001b[0m\u001b[0;34m(\u001b[0m\u001b[0mnp\u001b[0m\u001b[0;34m.\u001b[0m\u001b[0mabs\u001b[0m\u001b[0;34m(\u001b[0m\u001b[0mD\u001b[0m\u001b[0;34m)\u001b[0m\u001b[0;34m,\u001b[0m \u001b[0mref\u001b[0m\u001b[0;34m=\u001b[0m\u001b[0mnp\u001b[0m\u001b[0;34m.\u001b[0m\u001b[0mmax\u001b[0m\u001b[0;34m(\u001b[0m\u001b[0;34m)\u001b[0m\u001b[0;34m)\u001b[0m\u001b[0;34m\u001b[0m\u001b[0;34m\u001b[0m\u001b[0m\n\u001b[0m\u001b[1;32m     59\u001b[0m \u001b[0;34m\u001b[0m\u001b[0m\n\u001b[1;32m     60\u001b[0m     \u001b[0mfig\u001b[0m\u001b[0;34m,\u001b[0m \u001b[0max\u001b[0m \u001b[0;34m=\u001b[0m \u001b[0mplt\u001b[0m\u001b[0;34m.\u001b[0m\u001b[0msubplots\u001b[0m\u001b[0;34m(\u001b[0m\u001b[0;34m)\u001b[0m\u001b[0;34m\u001b[0m\u001b[0;34m\u001b[0m\u001b[0m\n",
      "\u001b[0;32m<__array_function__ internals>\u001b[0m in \u001b[0;36mamax\u001b[0;34m(*args, **kwargs)\u001b[0m\n",
      "\u001b[0;31mTypeError\u001b[0m: _amax_dispatcher() missing 1 required positional argument: 'a'"
     ]
    }
   ],
   "source": [
    "save_spectrogram(chunk_list[1])"
   ]
  },
  {
   "cell_type": "code",
   "execution_count": null,
   "metadata": {},
   "outputs": [],
   "source": []
  }
 ],
 "metadata": {
  "kernelspec": {
   "display_name": "Python 3",
   "language": "python",
   "name": "python3"
  },
  "language_info": {
   "codemirror_mode": {
    "name": "ipython",
    "version": 3
   },
   "file_extension": ".py",
   "mimetype": "text/x-python",
   "name": "python",
   "nbconvert_exporter": "python",
   "pygments_lexer": "ipython3",
   "version": "3.7.6"
  }
 },
 "nbformat": 4,
 "nbformat_minor": 4
}
